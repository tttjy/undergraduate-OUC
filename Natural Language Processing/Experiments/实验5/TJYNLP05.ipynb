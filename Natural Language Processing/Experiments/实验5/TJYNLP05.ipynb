{
 "cells": [
  {
   "cell_type": "code",
   "execution_count": 1,
   "id": "2cabe1e8",
   "metadata": {},
   "outputs": [],
   "source": [
    "def compute_score(emissions, tags, seq_ends, mask, trans, start_trans, end_trans):\n",
    "    # emissions: (seq_length, batch_size, num_tags)\n",
    "    # tags: (seq_length, batch_size)\n",
    "    # mask: (seq_length, batch_size)\n",
    "\n",
    "    seq_length, batch_size = tags.shape\n",
    "    mask = mask.astype(emissions.dtype)\n",
    "\n",
    "    # 将score设置为初始转移概率\n",
    "    # shape: (batch_size,)\n",
    "    score = start_trans[tags[0]]\n",
    "    # score += 第一次发射概率\n",
    "    # shape: (batch_size,)\n",
    "    score += emissions[0, mnp.arange(batch_size), tags[0]]\n",
    "\n",
    "    for i in range(1, seq_length):\n",
    "        # 标签由i-1转移至i的转移概率（当mask == 1时有效）\n",
    "        # shape: (batch_size,)\n",
    "        score += trans[tags[i - 1], tags[i]] * mask[i]\n",
    "\n",
    "        # 预测tags[i]的发射概率（当mask == 1时有效）\n",
    "        # shape: (batch_size,)\n",
    "        score += emissions[i, mnp.arange(batch_size), tags[i]] * mask[i]\n",
    "\n",
    "    # 结束转移\n",
    "    # shape: (batch_size,)\n",
    "    last_tags = tags[seq_ends, mnp.arange(batch_size)]\n",
    "    # score += 结束转移概率\n",
    "    # shape: (batch_size,)\n",
    "    score += end_trans[last_tags]\n",
    "\n",
    "    return score"
   ]
  },
  {
   "cell_type": "code",
   "execution_count": 2,
   "id": "d9be8505",
   "metadata": {},
   "outputs": [],
   "source": [
    "def compute_normalizer(emissions, mask, trans, start_trans, end_trans):\n",
    "    # emissions: (seq_length, batch_size, num_tags)\n",
    "    # mask: (seq_length, batch_size)\n",
    "\n",
    "    seq_length = emissions.shape[0]\n",
    "\n",
    "    # 将score设置为初始转移概率，并加上第一次发射概率\n",
    "    # shape: (batch_size, num_tags)\n",
    "    score = start_trans + emissions[0]\n",
    "\n",
    "    for i in range(1, seq_length):\n",
    "        # 扩展score的维度用于总score的计算\n",
    "        # shape: (batch_size, num_tags, 1)\n",
    "        broadcast_score = score.expand_dims(2)\n",
    "\n",
    "        # 扩展emission的维度用于总score的计算\n",
    "        # shape: (batch_size, 1, num_tags)\n",
    "        broadcast_emissions = emissions[i].expand_dims(1)\n",
    "\n",
    "        # 根据公式(7)，计算score_i\n",
    "        # 此时broadcast_score是由第0个到当前Token所有可能路径\n",
    "        # 对应score的log_sum_exp\n",
    "        # shape: (batch_size, num_tags, num_tags)\n",
    "        next_score = broadcast_score + trans + broadcast_emissions\n",
    "\n",
    "        # 对score_i做log_sum_exp运算，用于下一个Token的score计算\n",
    "        # shape: (batch_size, num_tags)\n",
    "        next_score = ops.logsumexp(next_score, axis=1)\n",
    "\n",
    "        # 当mask == 1时，score才会变化\n",
    "        # shape: (batch_size, num_tags)\n",
    "        score = mnp.where(mask[i].expand_dims(1), next_score, score)\n",
    "\n",
    "    # 最后加结束转移概率\n",
    "    # shape: (batch_size, num_tags)\n",
    "    score += end_trans\n",
    "    # 对所有可能的路径得分求log_sum_exp\n",
    "    # shape: (batch_size,)\n",
    "    return ops.logsumexp(score, axis=1)"
   ]
  },
  {
   "cell_type": "code",
   "execution_count": 3,
   "id": "655c1870",
   "metadata": {},
   "outputs": [],
   "source": [
    "def viterbi_decode(emissions, mask, trans, start_trans, end_trans):\n",
    "    # emissions: (seq_length, batch_size, num_tags)\n",
    "    # mask: (seq_length, batch_size)\n",
    "\n",
    "    seq_length = mask.shape[0]\n",
    "\n",
    "    score = start_trans + emissions[0]\n",
    "    history = ()\n",
    "\n",
    "    for i in range(1, seq_length):\n",
    "        broadcast_score = score.expand_dims(2)\n",
    "        broadcast_emission = emissions[i].expand_dims(1)\n",
    "        next_score = broadcast_score + trans + broadcast_emission\n",
    "\n",
    "        # 求当前Token对应score取值最大的标签，并保存\n",
    "        indices = next_score.argmax(axis=1)\n",
    "        history += (indices,)\n",
    "\n",
    "        next_score = next_score.max(axis=1)\n",
    "        score = mnp.where(mask[i].expand_dims(1), next_score, score)\n",
    "\n",
    "    score += end_trans\n",
    "\n",
    "    return score, history\n",
    "\n",
    "def post_decode(score, history, seq_length):\n",
    "    # 使用Score和History计算最佳预测序列\n",
    "    batch_size = seq_length.shape[0]\n",
    "    seq_ends = seq_length - 1\n",
    "    # shape: (batch_size,)\n",
    "    best_tags_list = []\n",
    "\n",
    "    # 依次对一个Batch中每个样例进行解码\n",
    "    for idx in range(batch_size):\n",
    "        # 查找使最后一个Token对应的预测概率最大的标签，\n",
    "        # 并将其添加至最佳预测序列存储的列表中\n",
    "        best_last_tag = score[idx].argmax(axis=0)\n",
    "        best_tags = [int(best_last_tag.asnumpy())]\n",
    "\n",
    "        # 重复查找每个Token对应的预测概率最大的标签，加入列表\n",
    "        for hist in reversed(history[:seq_ends[idx]]):\n",
    "            best_last_tag = hist[idx][best_tags[-1]]\n",
    "            best_tags.append(int(best_last_tag.asnumpy()))\n",
    "\n",
    "        # 将逆序求解的序列标签重置为正序\n",
    "        best_tags.reverse()\n",
    "        best_tags_list.append(best_tags)\n",
    "\n",
    "    return best_tags_list"
   ]
  },
  {
   "cell_type": "code",
   "execution_count": 4,
   "id": "478f7ca3",
   "metadata": {},
   "outputs": [],
   "source": [
    "import mindspore as ms\n",
    "import mindspore.nn as nn\n",
    "import mindspore.ops as ops\n",
    "import mindspore.numpy as mnp\n",
    "from mindspore.common.initializer import initializer, Uniform\n",
    "\n",
    "def sequence_mask(seq_length, max_length, batch_first=False):\n",
    "    \"\"\"根据序列实际长度和最大长度生成mask矩阵\"\"\"\n",
    "    range_vector = mnp.arange(0, max_length, 1, seq_length.dtype)\n",
    "    result = range_vector < seq_length.view(seq_length.shape + (1,))\n",
    "    if batch_first:\n",
    "        return result.astype(ms.int64)\n",
    "    return result.astype(ms.int64).swapaxes(0, 1)\n",
    "\n",
    "class CRF(nn.Cell):\n",
    "    def __init__(self, num_tags: int, batch_first: bool = False, reduction: str = 'sum') -> None:\n",
    "        if num_tags <= 0:\n",
    "            raise ValueError(f'invalid number of tags: {num_tags}')\n",
    "        super().__init__()\n",
    "        if reduction not in ('none', 'sum', 'mean', 'token_mean'):\n",
    "            raise ValueError(f'invalid reduction: {reduction}')\n",
    "        self.num_tags = num_tags\n",
    "        self.batch_first = batch_first\n",
    "        self.reduction = reduction\n",
    "        self.start_transitions = ms.Parameter(initializer(Uniform(0.1), (num_tags,)), name='start_transitions')\n",
    "        self.end_transitions = ms.Parameter(initializer(Uniform(0.1), (num_tags,)), name='end_transitions')\n",
    "        self.transitions = ms.Parameter(initializer(Uniform(0.1), (num_tags, num_tags)), name='transitions')\n",
    "\n",
    "    def construct(self, emissions, tags=None, seq_length=None):\n",
    "        if tags is None:\n",
    "            return self._decode(emissions, seq_length)\n",
    "        return self._forward(emissions, tags, seq_length)\n",
    "\n",
    "    def _forward(self, emissions, tags=None, seq_length=None):\n",
    "        if self.batch_first:\n",
    "            batch_size, max_length = tags.shape\n",
    "            emissions = emissions.swapaxes(0, 1)\n",
    "            tags = tags.swapaxes(0, 1)\n",
    "        else:\n",
    "            max_length, batch_size = tags.shape\n",
    "\n",
    "        if seq_length is None:\n",
    "            seq_length = mnp.full((batch_size,), max_length, ms.int64)\n",
    "\n",
    "        mask = sequence_mask(seq_length, max_length)\n",
    "\n",
    "        # shape: (batch_size,)\n",
    "        numerator = compute_score(emissions, tags, seq_length-1, mask, self.transitions, self.start_transitions, self.end_transitions)\n",
    "        # shape: (batch_size,)\n",
    "        denominator = compute_normalizer(emissions, mask, self.transitions, self.start_transitions, self.end_transitions)\n",
    "        # shape: (batch_size,)\n",
    "        llh = denominator - numerator\n",
    "\n",
    "        if self.reduction == 'none':\n",
    "            return llh\n",
    "        if self.reduction == 'sum':\n",
    "            return llh.sum()\n",
    "        if self.reduction == 'mean':\n",
    "            return llh.mean()\n",
    "        return llh.sum() / mask.astype(emissions.dtype).sum()\n",
    "\n",
    "    def _decode(self, emissions, seq_length=None):\n",
    "        if self.batch_first:\n",
    "            batch_size, max_length = emissions.shape[:2]\n",
    "            emissions = emissions.swapaxes(0, 1)\n",
    "        else:\n",
    "            batch_size, max_length = emissions.shape[:2]\n",
    "\n",
    "        if seq_length is None:\n",
    "            seq_length = mnp.full((batch_size,), max_length, ms.int64)\n",
    "\n",
    "        mask = sequence_mask(seq_length, max_length)\n",
    "\n",
    "        return viterbi_decode(emissions, mask, self.transitions, self.start_transitions, self.end_transitions)"
   ]
  },
  {
   "cell_type": "code",
   "execution_count": 5,
   "id": "cff75931",
   "metadata": {},
   "outputs": [],
   "source": [
    "class BiLSTM_CRF(nn.Cell):\n",
    "    def __init__(self, vocab_size, embedding_dim, hidden_dim, num_tags, padding_idx=0):\n",
    "        super().__init__()\n",
    "        self.embedding = nn.Embedding(vocab_size, embedding_dim, padding_idx=padding_idx)\n",
    "        self.lstm = nn.LSTM(embedding_dim, hidden_dim // 2, bidirectional=True, batch_first=True)\n",
    "        self.hidden2tag = nn.Dense(hidden_dim, num_tags, 'he_uniform')\n",
    "        self.crf = CRF(num_tags, batch_first=True)\n",
    "\n",
    "    def construct(self, inputs, seq_length, tags=None):\n",
    "        embeds = self.embedding(inputs)\n",
    "        outputs, _ = self.lstm(embeds, seq_length=seq_length)\n",
    "        feats = self.hidden2tag(outputs)\n",
    "\n",
    "        crf_outs = self.crf(feats, tags, seq_length)\n",
    "        return crf_outs"
   ]
  },
  {
   "cell_type": "code",
   "execution_count": 6,
   "id": "81aaf9c6",
   "metadata": {},
   "outputs": [],
   "source": [
    "embedding_dim = 16\n",
    "hidden_dim = 32\n",
    "\n",
    "training_data = [(\n",
    "    \"我 爱 长 沙 的 臭 豆 腐\".split(),\n",
    "    \"O O B I O O O O\".split()\n",
    "), (\n",
    "    \"沙 湾 和 石 河 子 都 是 迷 人 的 地 方\".split(),\n",
    "    \"B I O B I I O O O O O O O\".split()\n",
    "),(\n",
    "    \"新 疆 是 个 好 地 方 ， 尤 其 是 乌 鲁 木 齐 \".split(),\n",
    "    \"B I O O O O O O O O O B I I I\".split()\n",
    ")]\n",
    "\n",
    "word_to_idx = {}\n",
    "word_to_idx['<pad>'] = 0\n",
    "for sentence, tags in training_data:\n",
    "    for word in sentence:\n",
    "        if word not in word_to_idx:\n",
    "            word_to_idx[word] = len(word_to_idx)\n",
    "\n",
    "tag_to_idx = {\"B\": 0, \"I\": 1, \"O\": 2}"
   ]
  },
  {
   "cell_type": "code",
   "execution_count": 7,
   "id": "6fcdc981",
   "metadata": {},
   "outputs": [
    {
     "data": {
      "text/plain": [
       "31"
      ]
     },
     "execution_count": 7,
     "metadata": {},
     "output_type": "execute_result"
    }
   ],
   "source": [
    "len(word_to_idx)"
   ]
  },
  {
   "cell_type": "code",
   "execution_count": 8,
   "id": "fdb97652",
   "metadata": {},
   "outputs": [],
   "source": [
    "model = BiLSTM_CRF(len(word_to_idx), embedding_dim, hidden_dim, len(tag_to_idx))\n",
    "optimizer = nn.SGD(model.trainable_params(), learning_rate=0.01, weight_decay=1e-4)"
   ]
  },
  {
   "cell_type": "code",
   "execution_count": 9,
   "id": "68b05bf8",
   "metadata": {},
   "outputs": [],
   "source": [
    "grad_fn = ops.value_and_grad(model, None, optimizer.parameters)\n",
    "\n",
    "def train_step(data, seq_length, label):\n",
    "    loss, grads = grad_fn(data, seq_length, label)\n",
    "    optimizer(grads)\n",
    "    return loss"
   ]
  },
  {
   "cell_type": "code",
   "execution_count": 10,
   "id": "1db22fda",
   "metadata": {},
   "outputs": [],
   "source": [
    "def prepare_sequence(seqs, word_to_idx, tag_to_idx):\n",
    "    seq_outputs, label_outputs, seq_length = [], [], []\n",
    "    max_len = max([len(i[0]) for i in seqs])\n",
    "\n",
    "    for seq, tag in seqs:\n",
    "        seq_length.append(len(seq))\n",
    "        idxs = [word_to_idx[w] for w in seq]\n",
    "        labels = [tag_to_idx[t] for t in tag]\n",
    "        idxs.extend([word_to_idx['<pad>'] for i in range(max_len - len(seq))])\n",
    "        labels.extend([tag_to_idx['O'] for i in range(max_len - len(seq))])\n",
    "        seq_outputs.append(idxs)\n",
    "        label_outputs.append(labels)\n",
    "\n",
    "    return ms.Tensor(seq_outputs, ms.int64), \\\n",
    "            ms.Tensor(label_outputs, ms.int64), \\\n",
    "            ms.Tensor(seq_length, ms.int64)"
   ]
  },
  {
   "cell_type": "code",
   "execution_count": 11,
   "id": "9b62f2e3",
   "metadata": {},
   "outputs": [
    {
     "data": {
      "text/plain": [
       "((3, 15), (3, 15))"
      ]
     },
     "execution_count": 11,
     "metadata": {},
     "output_type": "execute_result"
    }
   ],
   "source": [
    "data, label, seq_length = prepare_sequence(training_data, word_to_idx, tag_to_idx)\n",
    "data.shape, label.shape"
   ]
  },
  {
   "cell_type": "code",
   "execution_count": 12,
   "id": "43aac04a",
   "metadata": {},
   "outputs": [
    {
     "name": "stderr",
     "output_type": "stream",
     "text": [
      "  0%|                                                                                          | 0/500 [00:00<?, ?it/s][WARNING] ME(13032:16452,MainProcess):2023-05-29-11:21:55.856.831 [mindspore\\ops\\primitive.py:713] The \"_check_is_tensor\" is a constexpr function. The input arguments must be all constant value.\n",
      "100%|███████████████████████████████████████████████████████████████| 500/500 [00:24<00:00, 20.76it/s, loss=0.30046844]\n"
     ]
    }
   ],
   "source": [
    "from tqdm import tqdm\n",
    "\n",
    "steps = 500\n",
    "with tqdm(total=steps) as t:\n",
    "    for i in range(steps):\n",
    "        loss = train_step(data, seq_length, label)\n",
    "        t.set_postfix(loss=loss)\n",
    "        t.update(1)"
   ]
  },
  {
   "cell_type": "code",
   "execution_count": 13,
   "id": "609d6e6d",
   "metadata": {},
   "outputs": [
    {
     "name": "stderr",
     "output_type": "stream",
     "text": [
      "[WARNING] ME(13032:16452,MainProcess):2023-05-29-11:22:21.497.287 [mindspore\\ops\\primitive.py:713] The \"_check_is_tensor\" is a constexpr function. The input arguments must be all constant value.\n"
     ]
    },
    {
     "data": {
      "text/plain": [
       "Tensor(shape=[3, 3], dtype=Float32, value=\n",
       "[[2.60962791e+001, 2.46617489e+001, 3.21553001e+001],\n",
       " [4.87769241e+001, 4.72072067e+001, 5.52461700e+001],\n",
       " [5.87931595e+001, 6.48096008e+001, 5.92881775e+001]])"
      ]
     },
     "execution_count": 13,
     "metadata": {},
     "output_type": "execute_result"
    }
   ],
   "source": [
    "score, history = model(data, seq_length)\n",
    "score"
   ]
  },
  {
   "cell_type": "code",
   "execution_count": 14,
   "id": "05a33831",
   "metadata": {},
   "outputs": [
    {
     "data": {
      "text/plain": [
       "[[2, 2, 0, 1, 2, 2, 2, 2],\n",
       " [0, 1, 2, 0, 1, 1, 2, 2, 2, 2, 2, 2, 2],\n",
       " [0, 1, 2, 2, 2, 2, 2, 2, 2, 2, 2, 0, 1, 1, 1]]"
      ]
     },
     "execution_count": 14,
     "metadata": {},
     "output_type": "execute_result"
    }
   ],
   "source": [
    "predict = post_decode(score, history, seq_length)\n",
    "predict"
   ]
  },
  {
   "cell_type": "code",
   "execution_count": 15,
   "id": "32c289ee",
   "metadata": {},
   "outputs": [],
   "source": [
    "idx_to_tag = {idx: tag for tag, idx in tag_to_idx.items()}\n",
    "\n",
    "def sequence_to_tag(sequences, idx_to_tag):\n",
    "    outputs = []\n",
    "    for seq in sequences:\n",
    "        outputs.append([idx_to_tag[i] for i in seq])\n",
    "    return outputs"
   ]
  },
  {
   "cell_type": "code",
   "execution_count": 16,
   "id": "561ab3be",
   "metadata": {},
   "outputs": [
    {
     "data": {
      "text/plain": [
       "[['O', 'O', 'B', 'I', 'O', 'O', 'O', 'O'],\n",
       " ['B', 'I', 'O', 'B', 'I', 'I', 'O', 'O', 'O', 'O', 'O', 'O', 'O'],\n",
       " ['B', 'I', 'O', 'O', 'O', 'O', 'O', 'O', 'O', 'O', 'O', 'B', 'I', 'I', 'I']]"
      ]
     },
     "execution_count": 16,
     "metadata": {},
     "output_type": "execute_result"
    }
   ],
   "source": [
    "sequence_to_tag(predict, idx_to_tag)"
   ]
  },
  {
   "cell_type": "code",
   "execution_count": null,
   "id": "4458de35",
   "metadata": {},
   "outputs": [],
   "source": []
  }
 ],
 "metadata": {
  "kernelspec": {
   "display_name": "mindspore",
   "language": "python",
   "name": "mindspore"
  },
  "language_info": {
   "codemirror_mode": {
    "name": "ipython",
    "version": 3
   },
   "file_extension": ".py",
   "mimetype": "text/x-python",
   "name": "python",
   "nbconvert_exporter": "python",
   "pygments_lexer": "ipython3",
   "version": "3.9.0"
  }
 },
 "nbformat": 4,
 "nbformat_minor": 5
}
